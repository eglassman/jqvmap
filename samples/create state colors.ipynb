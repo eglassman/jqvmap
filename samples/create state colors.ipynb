{
 "metadata": {
  "name": ""
 },
 "nbformat": 3,
 "nbformat_minor": 0,
 "worksheets": [
  {
   "cells": [
    {
     "cell_type": "code",
     "collapsed": false,
     "input": [
      "import matplotlib.pyplot as plt\n",
      "import numpy as np"
     ],
     "language": "python",
     "metadata": {},
     "outputs": [],
     "prompt_number": 29
    },
    {
     "cell_type": "code",
     "collapsed": false,
     "input": [
      "statesToColor = ['ar','ca','ct','de','dc','il','ia','kt','md','ma','mi','mn','ms','nj','ny','nc','oh','ok','pa','ri','vt','va','wa','wi']"
     ],
     "language": "python",
     "metadata": {},
     "outputs": [],
     "prompt_number": 1
    },
    {
     "cell_type": "code",
     "collapsed": false,
     "input": [
      "oldOpacity = [0.04,0.01,0.01,0.04,.05,0.07,0.02,0.01,0.01,0.14,0.02,0.04,0.01,0.11,0.56,0.01,0.06,0.01,1.0,0.02,0.01,0.02,0.01,0.01]"
     ],
     "language": "python",
     "metadata": {},
     "outputs": [],
     "prompt_number": 3
    },
    {
     "cell_type": "code",
     "collapsed": false,
     "input": [
      "len(oldOpacity)"
     ],
     "language": "python",
     "metadata": {},
     "outputs": [
      {
       "metadata": {},
       "output_type": "pyout",
       "prompt_number": 4,
       "text": [
        "24"
       ]
      }
     ],
     "prompt_number": 4
    },
    {
     "cell_type": "code",
     "collapsed": false,
     "input": [
      "plt.plot(oldOpacity)\n",
      "plt.show()"
     ],
     "language": "python",
     "metadata": {},
     "outputs": [],
     "prompt_number": 17
    },
    {
     "cell_type": "code",
     "collapsed": false,
     "input": [
      "len(statesToColor)"
     ],
     "language": "python",
     "metadata": {},
     "outputs": [
      {
       "metadata": {},
       "output_type": "pyout",
       "prompt_number": 2,
       "text": [
        "24"
       ]
      }
     ],
     "prompt_number": 2
    },
    {
     "cell_type": "code",
     "collapsed": false,
     "input": [
      "for state,oldOpac in zip(statesToColor,oldOpacity) :\n",
      "    #print state, opacity\n",
      "    opacity = (np.log10(oldOpac+0.15)+ 1.07)/(np.log10(1.15)+ 1.07)\n",
      "    greenval = str(int(round(255*(1-opacity))))\n",
      "    blueval = str(int(round(255*opacity)))\n",
      "    opacityval = str(min(1.0,opacity))\n",
      "    print \"jQuery('#vmap').vectorMap('set','colors',{\"+state+\":'rgba(0,\"+greenval+\",\"+blueval+\",\"+opacityval+\")'});\"\n",
      "    "
     ],
     "language": "python",
     "metadata": {},
     "outputs": [
      {
       "output_type": "stream",
       "stream": "stdout",
       "text": [
        "jQuery('#vmap').vectorMap('set','colors',{ar:'rgba(0,176,79,0.308441025096)'});\n",
        "jQuery('#vmap').vectorMap('set','colors',{ca:'rgba(0,193,62,0.242434338223)'});\n",
        "jQuery('#vmap').vectorMap('set','colors',{ct:'rgba(0,193,62,0.242434338223)'});\n",
        "jQuery('#vmap').vectorMap('set','colors',{de:'rgba(0,176,79,0.308441025096)'});\n",
        "jQuery('#vmap').vectorMap('set','colors',{dc:'rgba(0,171,84,0.328142481945)'});\n",
        "jQuery('#vmap').vectorMap('set','colors',{il:'rgba(0,162,93,0.364750569165)'});\n",
        "jQuery('#vmap').vectorMap('set','colors',{ia:'rgba(0,187,68,0.265719903811)'});\n",
        "jQuery('#vmap').vectorMap('set','colors',{kt:'rgba(0,193,62,0.242434338223)'});\n",
        "jQuery('#vmap').vectorMap('set','colors',{md:'rgba(0,193,62,0.242434338223)'});\n",
        "jQuery('#vmap').vectorMap('set','colors',{ma:'rgba(0,135,120,0.470857888729)'});\n",
        "jQuery('#vmap').vectorMap('set','colors',{mi:'rgba(0,187,68,0.265719903811)'});\n",
        "jQuery('#vmap').vectorMap('set','colors',{mn:'rgba(0,176,79,0.308441025096)'});\n",
        "jQuery('#vmap').vectorMap('set','colors',{ms:'rgba(0,193,62,0.242434338223)'});\n",
        "jQuery('#vmap').vectorMap('set','colors',{nj:'rgba(0,146,109,0.428915074092)'});\n",
        "jQuery('#vmap').vectorMap('set','colors',{ny:'rgba(0,47,208,0.814769707556)'});\n",
        "jQuery('#vmap').vectorMap('set','colors',{nc:'rgba(0,193,62,0.242434338223)'});\n",
        "jQuery('#vmap').vectorMap('set','colors',{oh:'rgba(0,167,88,0.346882500997)'});\n",
        "jQuery('#vmap').vectorMap('set','colors',{ok:'rgba(0,193,62,0.242434338223)'});\n",
        "jQuery('#vmap').vectorMap('set','colors',{pa:'rgba(0,0,255,1.0)'});\n",
        "jQuery('#vmap').vectorMap('set','colors',{ri:'rgba(0,187,68,0.265719903811)'});\n",
        "jQuery('#vmap').vectorMap('set','colors',{vt:'rgba(0,193,62,0.242434338223)'});\n",
        "jQuery('#vmap').vectorMap('set','colors',{va:'rgba(0,187,68,0.265719903811)'});\n",
        "jQuery('#vmap').vectorMap('set','colors',{wa:'rgba(0,193,62,0.242434338223)'});\n",
        "jQuery('#vmap').vectorMap('set','colors',{wi:'rgba(0,193,62,0.242434338223)'});\n"
       ]
      }
     ],
     "prompt_number": 45
    },
    {
     "cell_type": "code",
     "collapsed": false,
     "input": [],
     "language": "python",
     "metadata": {},
     "outputs": []
    }
   ],
   "metadata": {}
  }
 ]
}