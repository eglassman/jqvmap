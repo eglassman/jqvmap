{
 "metadata": {
  "name": ""
 },
 "nbformat": 3,
 "nbformat_minor": 0,
 "worksheets": [
  {
   "cells": [
    {
     "cell_type": "code",
     "collapsed": false,
     "input": [
      "import matplotlib.pyplot as plt\n",
      "import numpy as np"
     ],
     "language": "python",
     "metadata": {},
     "outputs": [],
     "prompt_number": 29
    },
    {
     "cell_type": "code",
     "collapsed": false,
     "input": [
      "statesToColor = ['ar','ca','ct','de','dc','il','ia','kt','md','ma','mi','mn','ms','nj','ny','nc','oh','ok','pa','ri','vt','va','wa','wi']"
     ],
     "language": "python",
     "metadata": {},
     "outputs": [],
     "prompt_number": 1
    },
    {
     "cell_type": "code",
     "collapsed": false,
     "input": [
      "oldOpacity = [0.04,0.01,0.01,0.04,.05,0.07,0.02,0.01,0.01,0.14,0.02,0.04,0.01,0.11,0.56,0.01,0.06,0.01,1.0,0.02,0.01,0.02,0.01,0.01]"
     ],
     "language": "python",
     "metadata": {},
     "outputs": [],
     "prompt_number": 3
    },
    {
     "cell_type": "code",
     "collapsed": false,
     "input": [
      "len(oldOpacity)"
     ],
     "language": "python",
     "metadata": {},
     "outputs": [
      {
       "metadata": {},
       "output_type": "pyout",
       "prompt_number": 4,
       "text": [
        "24"
       ]
      }
     ],
     "prompt_number": 4
    },
    {
     "cell_type": "code",
     "collapsed": false,
     "input": [
      "plt.plot(oldOpacity)\n",
      "plt.show()"
     ],
     "language": "python",
     "metadata": {},
     "outputs": [],
     "prompt_number": 17
    },
    {
     "cell_type": "code",
     "collapsed": false,
     "input": [
      "len(statesToColor)"
     ],
     "language": "python",
     "metadata": {},
     "outputs": [
      {
       "metadata": {},
       "output_type": "pyout",
       "prompt_number": 2,
       "text": [
        "24"
       ]
      }
     ],
     "prompt_number": 2
    },
    {
     "cell_type": "code",
     "collapsed": false,
     "input": [
      "for state,oldOpac in zip(statesToColor,oldOpacity) :\n",
      "    #print state, opacity\n",
      "    opacity = (np.log10(oldOpac+0.15)+ 1.07)/(np.log10(1.15)+ 1.07)\n",
      "    greenval = str(int(round(255*(1-opacity))))\n",
      "    blueval = str(int(round(255*opacity)))\n",
      "    opacityval = str(min(1.0,opacity))\n",
      "    print \"jQuery('#vmap').vectorMap('set','colors',{\"+state+\":'rgba(0,\"+greenval+\",\"+blueval+\",\"+opacityval+\")'});\"\n",
      "    "
     ],
     "language": "python",
     "metadata": {},
     "outputs": [
      {
       "output_type": "stream",
       "stream": "stdout",
       "text": [
        "jQuery('#vmap').vectorMap('set','colors',{ar:'rgba(0,176,79,0.308441025096)'});\n",
        "jQuery('#vmap').vectorMap('set','colors',{ca:'rgba(0,193,62,0.242434338223)'});\n",
        "jQuery('#vmap').vectorMap('set','colors',{ct:'rgba(0,193,62,0.242434338223)'});\n",
        "jQuery('#vmap').vectorMap('set','colors',{de:'rgba(0,176,79,0.308441025096)'});\n",
        "jQuery('#vmap').vectorMap('set','colors',{dc:'rgba(0,171,84,0.328142481945)'});\n",
        "jQuery('#vmap').vectorMap('set','colors',{il:'rgba(0,162,93,0.364750569165)'});\n",
        "jQuery('#vmap').vectorMap('set','colors',{ia:'rgba(0,187,68,0.265719903811)'});\n",
        "jQuery('#vmap').vectorMap('set','colors',{kt:'rgba(0,193,62,0.242434338223)'});\n",
        "jQuery('#vmap').vectorMap('set','colors',{md:'rgba(0,193,62,0.242434338223)'});\n",
        "jQuery('#vmap').vectorMap('set','colors',{ma:'rgba(0,135,120,0.470857888729)'});\n",
        "jQuery('#vmap').vectorMap('set','colors',{mi:'rgba(0,187,68,0.265719903811)'});\n",
        "jQuery('#vmap').vectorMap('set','colors',{mn:'rgba(0,176,79,0.308441025096)'});\n",
        "jQuery('#vmap').vectorMap('set','colors',{ms:'rgba(0,193,62,0.242434338223)'});\n",
        "jQuery('#vmap').vectorMap('set','colors',{nj:'rgba(0,146,109,0.428915074092)'});\n",
        "jQuery('#vmap').vectorMap('set','colors',{ny:'rgba(0,47,208,0.814769707556)'});\n",
        "jQuery('#vmap').vectorMap('set','colors',{nc:'rgba(0,193,62,0.242434338223)'});\n",
        "jQuery('#vmap').vectorMap('set','colors',{oh:'rgba(0,167,88,0.346882500997)'});\n",
        "jQuery('#vmap').vectorMap('set','colors',{ok:'rgba(0,193,62,0.242434338223)'});\n",
        "jQuery('#vmap').vectorMap('set','colors',{pa:'rgba(0,0,255,1.0)'});\n",
        "jQuery('#vmap').vectorMap('set','colors',{ri:'rgba(0,187,68,0.265719903811)'});\n",
        "jQuery('#vmap').vectorMap('set','colors',{vt:'rgba(0,193,62,0.242434338223)'});\n",
        "jQuery('#vmap').vectorMap('set','colors',{va:'rgba(0,187,68,0.265719903811)'});\n",
        "jQuery('#vmap').vectorMap('set','colors',{wa:'rgba(0,193,62,0.242434338223)'});\n",
        "jQuery('#vmap').vectorMap('set','colors',{wi:'rgba(0,193,62,0.242434338223)'});\n"
       ]
      }
     ],
     "prompt_number": 45
    },
    {
     "cell_type": "code",
     "collapsed": false,
     "input": [
      "countriesToColor = ['ar','be','br','cn','co','cu','gb','ee','de','gr','it','il','pl']"
     ],
     "language": "python",
     "metadata": {},
     "outputs": [],
     "prompt_number": 46
    },
    {
     "cell_type": "code",
     "collapsed": false,
     "input": [
      "countriesToColor"
     ],
     "language": "python",
     "metadata": {},
     "outputs": [
      {
       "metadata": {},
       "output_type": "pyout",
       "prompt_number": 47,
       "text": [
        "['ar', 'be', 'br', 'cn', 'co', 'cu', 'gb', 'ee', 'de', 'gr', 'it', 'il', 'pl']"
       ]
      }
     ],
     "prompt_number": 47
    },
    {
     "cell_type": "code",
     "collapsed": false,
     "input": [
      "countryCounts = [1,1,1,1,1,1,4,1,4,1,1,2,2]"
     ],
     "language": "python",
     "metadata": {},
     "outputs": [],
     "prompt_number": 48
    },
    {
     "cell_type": "code",
     "collapsed": false,
     "input": [
      "def printjQueryStatement(country,opacity):\n",
      "    greenval = str(int(round(255*(1-opacity))))\n",
      "    blueval = str(int(round(255*opacity)))\n",
      "    opacityval = str(min(1.0,opacity))\n",
      "    print \"jQuery('#vmap').vectorMap('set','colors',{\"+country+\":'rgba(0,\"+greenval+\",\"+blueval+\",\"+opacityval+\")'});\"\n",
      "\n",
      "\n",
      "for country,count in zip(countriesToColor,countryCounts):\n",
      "    #print country, count\n",
      "    if country in set(southAmerica) or country in set(westAfrica):\n",
      "        count += 0.5\n",
      "        #print 'adding 1'\n",
      "    opacity = 0.75*count*1.0/max(countryCounts) #(np.log10(oldOpac+0.15)+ 1.07)/(np.log10(1.15)+ 1.07)\n",
      "    #print opacity\n",
      "    if country in set(southAmerica):\n",
      "        count += 1\n",
      "    printjQueryStatement(country,opacity)\n",
      "for country in westAfrica:\n",
      "    #print country\n",
      "    opacity = 0.75*1.0/max(countryCounts)/len(westAfrica)\n",
      "    printjQueryStatement(country,opacity)\n",
      "for country in southAmericaMinusKnownCountries:\n",
      "    opacity = 0.75*1.0/max(countryCounts)/len(southAmerica)\n",
      "    printjQueryStatement(country,opacity)"
     ],
     "language": "python",
     "metadata": {},
     "outputs": [
      {
       "output_type": "stream",
       "stream": "stdout",
       "text": [
        "jQuery('#vmap').vectorMap('set','colors',{ar:'rgba(0,183,72,0.28125)'});\n",
        "jQuery('#vmap').vectorMap('set','colors',{be:'rgba(0,207,48,0.1875)'});\n",
        "jQuery('#vmap').vectorMap('set','colors',{br:'rgba(0,183,72,0.28125)'});\n",
        "jQuery('#vmap').vectorMap('set','colors',{cn:'rgba(0,207,48,0.1875)'});\n",
        "jQuery('#vmap').vectorMap('set','colors',{co:'rgba(0,183,72,0.28125)'});\n",
        "jQuery('#vmap').vectorMap('set','colors',{cu:'rgba(0,207,48,0.1875)'});\n",
        "jQuery('#vmap').vectorMap('set','colors',{gb:'rgba(0,64,191,0.75)'});\n",
        "jQuery('#vmap').vectorMap('set','colors',{ee:'rgba(0,207,48,0.1875)'});\n",
        "jQuery('#vmap').vectorMap('set','colors',{de:'rgba(0,64,191,0.75)'});\n",
        "jQuery('#vmap').vectorMap('set','colors',{gr:'rgba(0,207,48,0.1875)'});\n",
        "jQuery('#vmap').vectorMap('set','colors',{it:'rgba(0,207,48,0.1875)'});\n",
        "jQuery('#vmap').vectorMap('set','colors',{il:'rgba(0,159,96,0.375)'});\n",
        "jQuery('#vmap').vectorMap('set','colors',{pl:'rgba(0,159,96,0.375)'});\n",
        "jQuery('#vmap').vectorMap('set','colors',{ci:'rgba(0,252,3,0.01171875)'});\n",
        "jQuery('#vmap').vectorMap('set','colors',{ne:'rgba(0,252,3,0.01171875)'});\n",
        "jQuery('#vmap').vectorMap('set','colors',{ng:'rgba(0,252,3,0.01171875)'});\n",
        "jQuery('#vmap').vectorMap('set','colors',{ml:'rgba(0,252,3,0.01171875)'});\n",
        "jQuery('#vmap').vectorMap('set','colors',{bf:'rgba(0,252,3,0.01171875)'});\n",
        "jQuery('#vmap').vectorMap('set','colors',{gn:'rgba(0,252,3,0.01171875)'});\n",
        "jQuery('#vmap').vectorMap('set','colors',{gw:'rgba(0,252,3,0.01171875)'});\n",
        "jQuery('#vmap').vectorMap('set','colors',{cv:'rgba(0,252,3,0.01171875)'});\n",
        "jQuery('#vmap').vectorMap('set','colors',{sl:'rgba(0,252,3,0.01171875)'});\n",
        "jQuery('#vmap').vectorMap('set','colors',{gm:'rgba(0,252,3,0.01171875)'});\n",
        "jQuery('#vmap').vectorMap('set','colors',{bj:'rgba(0,252,3,0.01171875)'});\n",
        "jQuery('#vmap').vectorMap('set','colors',{tg:'rgba(0,252,3,0.01171875)'});\n",
        "jQuery('#vmap').vectorMap('set','colors',{lr:'rgba(0,252,3,0.01171875)'});\n",
        "jQuery('#vmap').vectorMap('set','colors',{mr:'rgba(0,252,3,0.01171875)'});\n",
        "jQuery('#vmap').vectorMap('set','colors',{sn:'rgba(0,252,3,0.01171875)'});\n",
        "jQuery('#vmap').vectorMap('set','colors',{gh:'rgba(0,252,3,0.01171875)'});\n",
        "jQuery('#vmap').vectorMap('set','colors',{py:'rgba(0,251,4,0.0144230769231)'});\n",
        "jQuery('#vmap').vectorMap('set','colors',{uy:'rgba(0,251,4,0.0144230769231)'});\n",
        "jQuery('#vmap').vectorMap('set','colors',{cl:'rgba(0,251,4,0.0144230769231)'});\n",
        "jQuery('#vmap').vectorMap('set','colors',{sr:'rgba(0,251,4,0.0144230769231)'});\n",
        "jQuery('#vmap').vectorMap('set','colors',{bo:'rgba(0,251,4,0.0144230769231)'});\n",
        "jQuery('#vmap').vectorMap('set','colors',{gy:'rgba(0,251,4,0.0144230769231)'});\n",
        "jQuery('#vmap').vectorMap('set','colors',{gf:'rgba(0,251,4,0.0144230769231)'});\n",
        "jQuery('#vmap').vectorMap('set','colors',{ec:'rgba(0,251,4,0.0144230769231)'});\n",
        "jQuery('#vmap').vectorMap('set','colors',{pe:'rgba(0,251,4,0.0144230769231)'});\n"
       ]
      }
     ],
     "prompt_number": 77
    },
    {
     "cell_type": "code",
     "collapsed": false,
     "input": [
      "westAfrica = ['ci','ne','ng','ml','bf','gn','gw','cv','sl','gm','bj','tg','lr','mr','sn','gh']\n",
      "southAmerica = ['bo','py','sr','uy','py','pe','gf','gy','ar','cl','ec','br','co']"
     ],
     "language": "python",
     "metadata": {},
     "outputs": [],
     "prompt_number": 61
    },
    {
     "cell_type": "code",
     "collapsed": false,
     "input": [
      "print len(westAfrica)\n",
      "print len(southAmerica)"
     ],
     "language": "python",
     "metadata": {},
     "outputs": [
      {
       "output_type": "stream",
       "stream": "stdout",
       "text": [
        "16\n",
        "13\n"
       ]
      }
     ],
     "prompt_number": 63
    },
    {
     "cell_type": "code",
     "collapsed": false,
     "input": [
      "southAmericaMinusKnownCountries = set(southAmerica).difference(set(countriesToColor))"
     ],
     "language": "python",
     "metadata": {},
     "outputs": [],
     "prompt_number": 69
    },
    {
     "cell_type": "code",
     "collapsed": false,
     "input": [
      "regionsToColor = [westAfrica,list(southAmericaMinusKnownCountries)]"
     ],
     "language": "python",
     "metadata": {},
     "outputs": [],
     "prompt_number": 71
    },
    {
     "cell_type": "code",
     "collapsed": false,
     "input": [
      "regionsToColor"
     ],
     "language": "python",
     "metadata": {},
     "outputs": [
      {
       "metadata": {},
       "output_type": "pyout",
       "prompt_number": 72,
       "text": [
        "[['ci',\n",
        "  'ne',\n",
        "  'ng',\n",
        "  'ml',\n",
        "  'bf',\n",
        "  'gn',\n",
        "  'gw',\n",
        "  'cv',\n",
        "  'sl',\n",
        "  'gm',\n",
        "  'bj',\n",
        "  'tg',\n",
        "  'lr',\n",
        "  'mr',\n",
        "  'sn',\n",
        "  'gh'],\n",
        " ['py', 'uy', 'cl', 'sr', 'bo', 'gy', 'gf', 'ec', 'pe']]"
       ]
      }
     ],
     "prompt_number": 72
    },
    {
     "cell_type": "code",
     "collapsed": false,
     "input": [
      "regionCounts = [1,1]"
     ],
     "language": "python",
     "metadata": {},
     "outputs": []
    }
   ],
   "metadata": {}
  }
 ]
}