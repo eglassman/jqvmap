{
 "metadata": {
  "name": ""
 },
 "nbformat": 3,
 "nbformat_minor": 0,
 "worksheets": [
  {
   "cells": [
    {
     "cell_type": "code",
     "collapsed": false,
     "input": [
      "import matplotlib.pyplot as plt\n",
      "import numpy as np"
     ],
     "language": "python",
     "metadata": {},
     "outputs": [],
     "prompt_number": 29
    },
    {
     "cell_type": "code",
     "collapsed": false,
     "input": [
      "statesToColor = ['ar','ca','ct','de','dc','il','ia','kt','md','ma','mi','mn','ms','nj','ny','nc','oh','ok','pa','ri','vt','va','wa','wi']"
     ],
     "language": "python",
     "metadata": {},
     "outputs": [],
     "prompt_number": 1
    },
    {
     "cell_type": "code",
     "collapsed": false,
     "input": [
      "oldOpacity = [0.04,0.01,0.01,0.04,.05,0.07,0.02,0.01,0.01,0.14,0.02,0.04,0.01,0.11,0.56,0.01,0.06,0.01,1.0,0.02,0.01,0.02,0.01,0.01]"
     ],
     "language": "python",
     "metadata": {},
     "outputs": [],
     "prompt_number": 3
    },
    {
     "cell_type": "code",
     "collapsed": false,
     "input": [
      "len(oldOpacity)"
     ],
     "language": "python",
     "metadata": {},
     "outputs": [
      {
       "metadata": {},
       "output_type": "pyout",
       "prompt_number": 4,
       "text": [
        "24"
       ]
      }
     ],
     "prompt_number": 4
    },
    {
     "cell_type": "code",
     "collapsed": false,
     "input": [
      "plt.plot(oldOpacity)\n",
      "plt.show()"
     ],
     "language": "python",
     "metadata": {},
     "outputs": [],
     "prompt_number": 17
    },
    {
     "cell_type": "code",
     "collapsed": false,
     "input": [
      "len(statesToColor)"
     ],
     "language": "python",
     "metadata": {},
     "outputs": [
      {
       "metadata": {},
       "output_type": "pyout",
       "prompt_number": 2,
       "text": [
        "24"
       ]
      }
     ],
     "prompt_number": 2
    },
    {
     "cell_type": "code",
     "collapsed": false,
     "input": [
      "for state,oldOpac in zip(statesToColor,oldOpacity) :\n",
      "    #print state, opacity\n",
      "    opacity = (np.log10(oldOpac+0.15)+ 1.07) #*1/0.71852108295\n",
      "    greenval = str(int(round(255*(1-opacity))))\n",
      "    blueval = str(int(round(255*opacity)))\n",
      "    opacityval = str(min(1.0,opacity))\n",
      "    print \"jQuery('#vmap').vectorMap('set','colors',{\"+state+\":'rgba(0,\"+greenval+\",\"+blueval+\",\"+opacityval+\")'});\"\n",
      "    "
     ],
     "language": "python",
     "metadata": {},
     "outputs": [
      {
       "output_type": "stream",
       "stream": "stdout",
       "text": [
        "jQuery('#vmap').vectorMap('set','colors',{ar:'rgba(0,158,97,0.380211241712)'});\n",
        "jQuery('#vmap').vectorMap('set','colors',{ca:'rgba(0,173,82,0.322219294734)'});\n",
        "jQuery('#vmap').vectorMap('set','colors',{ct:'rgba(0,173,82,0.322219294734)'});\n",
        "jQuery('#vmap').vectorMap('set','colors',{de:'rgba(0,158,97,0.380211241712)'});\n",
        "jQuery('#vmap').vectorMap('set','colors',{dc:'rgba(0,154,101,0.397940008672)'});\n",
        "jQuery('#vmap').vectorMap('set','colors',{il:'rgba(0,145,110,0.431363764159)'});\n",
        "jQuery('#vmap').vectorMap('set','colors',{ia:'rgba(0,168,87,0.342422680822)'});\n",
        "jQuery('#vmap').vectorMap('set','colors',{kt:'rgba(0,173,82,0.322219294734)'});\n",
        "jQuery('#vmap').vectorMap('set','colors',{md:'rgba(0,173,82,0.322219294734)'});\n",
        "jQuery('#vmap').vectorMap('set','colors',{ma:'rgba(0,119,136,0.531478917042)'});\n",
        "jQuery('#vmap').vectorMap('set','colors',{mi:'rgba(0,168,87,0.342422680822)'});\n",
        "jQuery('#vmap').vectorMap('set','colors',{mn:'rgba(0,158,97,0.380211241712)'});\n",
        "jQuery('#vmap').vectorMap('set','colors',{ms:'rgba(0,173,82,0.322219294734)'});\n",
        "jQuery('#vmap').vectorMap('set','colors',{nj:'rgba(0,130,125,0.491361693834)'});\n",
        "jQuery('#vmap').vectorMap('set','colors',{ny:'rgba(0,30,225,0.880813592281)'});\n",
        "jQuery('#vmap').vectorMap('set','colors',{nc:'rgba(0,173,82,0.322219294734)'});\n",
        "jQuery('#vmap').vectorMap('set','colors',{oh:'rgba(0,149,106,0.414973347971)'});\n",
        "jQuery('#vmap').vectorMap('set','colors',{ok:'rgba(0,173,82,0.322219294734)'});\n",
        "jQuery('#vmap').vectorMap('set','colors',{pa:'rgba(0,-20,275,1.0)'});\n",
        "jQuery('#vmap').vectorMap('set','colors',{ri:'rgba(0,168,87,0.342422680822)'});\n",
        "jQuery('#vmap').vectorMap('set','colors',{vt:'rgba(0,173,82,0.322219294734)'});\n",
        "jQuery('#vmap').vectorMap('set','colors',{va:'rgba(0,168,87,0.342422680822)'});\n",
        "jQuery('#vmap').vectorMap('set','colors',{wa:'rgba(0,173,82,0.322219294734)'});\n",
        "jQuery('#vmap').vectorMap('set','colors',{wi:'rgba(0,173,82,0.322219294734)'});\n"
       ]
      }
     ],
     "prompt_number": 41
    },
    {
     "cell_type": "code",
     "collapsed": false,
     "input": [],
     "language": "python",
     "metadata": {},
     "outputs": []
    }
   ],
   "metadata": {}
  }
 ]
}